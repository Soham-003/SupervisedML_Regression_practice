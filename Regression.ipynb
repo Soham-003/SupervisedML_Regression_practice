{
  "cells": [
    {
      "cell_type": "code",
      "execution_count": null,
      "metadata": {
        "id": "Sht44aZTR72O"
      },
      "outputs": [],
      "source": [
        "import pandas as pd\n",
        "import numpy as np\n",
        "import matplotlib.pyplot as plt\n",
        "import seaborn as sns\n",
        "import warnings\n",
        "warnings.filterwarnings('ignore')"
      ]
    },
    {
      "cell_type": "code",
      "execution_count": null,
      "metadata": {
        "id": "E8WnD7mZSbVn"
      },
      "outputs": [],
      "source": [
        "data = sns.load_dataset('taxis')"
      ]
    },
    {
      "cell_type": "code",
      "execution_count": null,
      "metadata": {
        "id": "p0H1enrjTX9d"
      },
      "outputs": [],
      "source": [
        "data.head()"
      ]
    },
    {
      "cell_type": "code",
      "execution_count": null,
      "metadata": {
        "id": "He528ItbTY6h"
      },
      "outputs": [],
      "source": [
        "data.info()"
      ]
    },
    {
      "cell_type": "code",
      "execution_count": null,
      "metadata": {
        "id": "0QdvOQI6URjS"
      },
      "outputs": [],
      "source": [
        "data.describe()"
      ]
    },
    {
      "cell_type": "code",
      "execution_count": null,
      "metadata": {
        "id": "M-B8O0k_UZzR"
      },
      "outputs": [],
      "source": [
        "data.isnull().sum()"
      ]
    },
    {
      "cell_type": "code",
      "execution_count": null,
      "metadata": {
        "id": "ooIbD_RFUmh8"
      },
      "outputs": [],
      "source": [
        "data.dropna(inplace = True,axis = 0)"
      ]
    },
    {
      "cell_type": "code",
      "execution_count": null,
      "metadata": {
        "id": "nxrXOvWJVoJN"
      },
      "outputs": [],
      "source": [
        "data.isnull().sum()"
      ]
    },
    {
      "cell_type": "code",
      "execution_count": null,
      "metadata": {
        "id": "Np0rAKlaVrdH"
      },
      "outputs": [],
      "source": [
        "data.shape"
      ]
    },
    {
      "cell_type": "code",
      "execution_count": null,
      "metadata": {
        "id": "VTOtgZfvVwlS"
      },
      "outputs": [],
      "source": [
        "data[data.duplicated()]"
      ]
    },
    {
      "cell_type": "code",
      "execution_count": null,
      "metadata": {
        "id": "hThI_k1AV2-l"
      },
      "outputs": [],
      "source": [
        "for i in range(len(data.columns)):\n",
        "    print(data.columns[i])"
      ]
    },
    {
      "cell_type": "code",
      "execution_count": null,
      "metadata": {
        "id": "IFQeDe2wb-z3"
      },
      "outputs": [],
      "source": [
        "data.columns"
      ]
    },
    {
      "cell_type": "code",
      "execution_count": null,
      "metadata": {
        "id": "QzqooQPIc0ly"
      },
      "outputs": [],
      "source": [
        "categorical_features = [ i for i in data.columns if(data[i].dtypes == 'object')]\n",
        "numerical_features =  [i for i in data.columns if(data[i].dtypes != 'object') ]\n",
        "categorical_features,numerical_features"
      ]
    },
    {
      "cell_type": "code",
      "execution_count": null,
      "metadata": {
        "id": "vwAYXe2Xfwk2"
      },
      "outputs": [],
      "source": [
        "df = data[numerical_features]\n",
        "df.head()"
      ]
    },
    {
      "cell_type": "code",
      "execution_count": null,
      "metadata": {
        "id": "vcCPCWAkkU0A"
      },
      "outputs": [],
      "source": [
        "df.corr()"
      ]
    },
    {
      "cell_type": "code",
      "execution_count": null,
      "metadata": {
        "id": "jbr8C2rQkbQh"
      },
      "outputs": [],
      "source": [
        "plt.figure(figsize = (10,10))\n",
        "sns.heatmap(df.corr(),annot = True)"
      ]
    },
    {
      "cell_type": "code",
      "execution_count": null,
      "metadata": {
        "id": "BuGq4mlZkps_"
      },
      "outputs": [],
      "source": [
        "df['duration'] = df['dropoff'] - df['pickup']\n",
        "df.drop(['pickup','dropoff'],axis = 1,inplace = True)"
      ]
    },
    {
      "cell_type": "code",
      "execution_count": null,
      "metadata": {
        "id": "1bHNUzl7lWSh"
      },
      "outputs": [],
      "source": [
        "\n",
        "df['duration'] = df['duration'].astype('str')\n",
        "df.head()"
      ]
    },
    {
      "cell_type": "code",
      "execution_count": null,
      "metadata": {
        "id": "3VdT0F2JlXz2"
      },
      "outputs": [],
      "source": [
        "df['duration_min'] = df['duration'].str.split('days').str[1].str.split(':').str[0].astype('int')*60 + df['duration'].str.split('days').str[1].str.split(':').str[1].astype('int')"
      ]
    },
    {
      "cell_type": "code",
      "execution_count": null,
      "metadata": {
        "id": "XRZvHaVPnep-"
      },
      "outputs": [],
      "source": [
        "df.drop('duration',axis = 1,inplace = True)\n",
        "df.head()"
      ]
    },
    {
      "cell_type": "code",
      "execution_count": null,
      "metadata": {
        "id": "2Yb9KFeuqCnj"
      },
      "outputs": [],
      "source": [
        "x = df[['passengers','distance','tolls','duration_min']]\n",
        "y = df['fare']"
      ]
    },
    {
      "cell_type": "code",
      "execution_count": null,
      "metadata": {
        "id": "pNMWZoPlhlzu"
      },
      "outputs": [],
      "source": [
        "from sklearn.model_selection import train_test_split\n",
        "x_train,x_test,y_train,y_test = train_test_split(x,y,test_size = 0.2,random_state = 42)"
      ]
    },
    {
      "cell_type": "code",
      "execution_count": null,
      "metadata": {
        "id": "B6bxn4zmiLaY"
      },
      "outputs": [],
      "source": [
        "from sklearn.preprocessing import StandardScaler\n",
        "scaler = StandardScaler()\n",
        "x_train_scaled = scaler.fit_transform(x_train)\n",
        "x_test_scaled = scaler.transform(x_test)"
      ]
    },
    {
      "cell_type": "code",
      "execution_count": null,
      "metadata": {
        "id": "d135CPf4ipI7"
      },
      "outputs": [],
      "source": [
        "len(x_train),len(y_train)"
      ]
    },
    {
      "cell_type": "code",
      "execution_count": null,
      "metadata": {
        "id": "6sFAK9zSi-xV"
      },
      "outputs": [],
      "source": [
        "from sklearn.linear_model import LinearRegression\n",
        "regressor = LinearRegression()\n",
        "regressor.fit(x_train_scaled,y_train)\n",
        "regressor.intercept_"
      ]
    },
    {
      "cell_type": "code",
      "execution_count": null,
      "metadata": {
        "id": "LVm43EzvjUXN"
      },
      "outputs": [],
      "source": [
        "regressor.coef_"
      ]
    },
    {
      "cell_type": "code",
      "execution_count": null,
      "metadata": {
        "id": "68Iow5l3kRid"
      },
      "outputs": [],
      "source": [
        "y_test_pred = regressor.predict(x_test_scaled)"
      ]
    },
    {
      "cell_type": "code",
      "execution_count": null,
      "metadata": {
        "id": "Gp7n__fwkcoP"
      },
      "outputs": [],
      "source": [
        "from sklearn.metrics import mean_squared_error,r2_score\n",
        "mean_squared_error(y_test,y_test_pred),r2_score(y_test,y_test_pred)"
      ]
    },
    {
      "cell_type": "code",
      "execution_count": null,
      "metadata": {
        "id": "a9tynL7dlO8h"
      },
      "outputs": [],
      "source": [
        "from sklearn.linear_model import Ridge,Lasso,ElasticNet\n",
        "ridge = Ridge()\n",
        "lasso = Lasso()\n",
        "elastic = ElasticNet()"
      ]
    },
    {
      "cell_type": "code",
      "execution_count": null,
      "metadata": {
        "id": "yD6tK8X-l8Xr"
      },
      "outputs": [],
      "source": [
        "ridge.fit(x_train_scaled,y_train)\n",
        "lasso.fit(x_train_scaled,y_train)\n",
        "elastic.fit(x_train_scaled,y_train)\n",
        "y_test_pred_ridge = ridge.predict(x_test_scaled)\n",
        "y_test_pred_lasso = lasso.predict(x_test_scaled)\n",
        "y_test_pred_elastic = elastic.predict(x_test_scaled)"
      ]
    },
    {
      "cell_type": "code",
      "execution_count": null,
      "metadata": {
        "id": "liY4xuw5mQCG"
      },
      "outputs": [],
      "source": [
        "print('By Ridge',mean_squared_error(y_test,y_test_pred_ridge),r2_score(y_test,y_test_pred_ridge))\n",
        "print('By Lasso',mean_squared_error(y_test,y_test_pred_lasso),r2_score(y_test,y_test_pred_lasso))\n",
        "print('By ElasticNet',mean_squared_error(y_test,y_test_pred_elastic),r2_score(y_test,y_test_pred_elastic))"
      ]
    },
    {
      "cell_type": "code",
      "execution_count": null,
      "metadata": {
        "id": "rwnfkaR6m2K_"
      },
      "outputs": [],
      "source": [
        "lis = []\n",
        "def model_selection(model):\n",
        "  prediction = model.predict(x_test_scaled)\n",
        "  print(f'Mean Squared Error by {model}',mean_squared_error(y_test,prediction))\n",
        "  print(f'R2 Score by {model}',r2_score(y_test,prediction))\n",
        "  print('\\n')\n",
        "  lis.append(r2_score(y_test,prediction))\n",
        "models = [regressor,ridge,lasso,elastic]\n",
        "for i in models:\n",
        "  model_selection(i)\n",
        "arr = np.array(lis)\n",
        "idx = arr.argmax()\n",
        "print(f\"Best Model is {models[idx]}\")"
      ]
    },
    {
      "cell_type": "code",
      "execution_count": null,
      "metadata": {
        "id": "EgLvF6P_rF6B"
      },
      "outputs": [],
      "source": [
        "from sklearn.tree import DecisionTreeRegressor\n",
        "from sklearn.model_selection import GridSearchCV\n",
        "parameters = {\n",
        "    'criterion' : ['squared_error', 'friedman_mse', 'absolute_error', 'poisson'],\n",
        "    'splitter' : ['best', 'random'],\n",
        "    'max_depth' : [1,2,3,4,5,6,7,8,9,10],\n",
        "}\n",
        "clf = GridSearchCV(DecisionTreeRegressor(),param_grid = parameters,cv = 5)\n",
        "clf.fit(x_train_scaled,y_train)\n",
        "clf.best_params_"
      ]
    },
    {
      "cell_type": "code",
      "execution_count": null,
      "metadata": {
        "id": "hqBNGJc912g1"
      },
      "outputs": [],
      "source": [
        "dt = DecisionTreeRegressor(criterion = 'absolute_error', max_depth =  7,splitter = 'best')\n",
        "dt.fit(x_train_scaled,y_train)\n",
        "y_test_pred_dt = dt.predict(x_test_scaled)\n",
        "r2_score(y_test,y_test_pred_dt),mean_squared_error(y_test,y_test_pred_dt)"
      ]
    },
    {
      "cell_type": "code",
      "execution_count": null,
      "metadata": {
        "id": "CqwJfJ7P2xVn"
      },
      "outputs": [],
      "source": [
        "from sklearn import tree\n",
        "plt.figure(figsize = (20,20))\n",
        "tree.plot_tree(dt,filled = True,max_depth = 2)"
      ]
    },
    {
      "cell_type": "code",
      "execution_count": null,
      "metadata": {
        "id": "YuBdHyHl3U2y"
      },
      "outputs": [],
      "source": []
    }
  ],
  "metadata": {
    "colab": {
      "provenance": []
    },
    "kernelspec": {
      "display_name": "Python 3",
      "name": "python3"
    },
    "language_info": {
      "codemirror_mode": {
        "name": "ipython",
        "version": 3
      },
      "file_extension": ".py",
      "mimetype": "text/x-python",
      "name": "python",
      "nbconvert_exporter": "python",
      "pygments_lexer": "ipython3",
      "version": "3.12.0"
    }
  },
  "nbformat": 4,
  "nbformat_minor": 0
}
